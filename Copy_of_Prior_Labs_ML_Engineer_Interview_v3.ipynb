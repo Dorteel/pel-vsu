{
  "cells": [
    {
      "cell_type": "markdown",
      "source": [
        "### Installation"
      ],
      "metadata": {
        "id": "_pAZKigRYepL"
      },
      "id": "_pAZKigRYepL"
    },
    {
      "cell_type": "code",
      "execution_count": null,
      "metadata": {
        "execution": {
          "iopub.execute_input": "2022-07-13T00:15:04.415840Z",
          "iopub.status.busy": "2022-07-13T00:15:04.415474Z",
          "iopub.status.idle": "2022-07-13T00:15:15.033050Z",
          "shell.execute_reply": "2022-07-13T00:15:15.032260Z"
        },
        "id": "nEUQ33fVYdCU"
      },
      "outputs": [],
      "source": [
        "!pip install -qqq torchtyping hypothesis pytest git+https://github.com/chalk-diagrams/chalk\n",
        "!wget -q https://github.com/srush/Tensor-Puzzles/raw/main/lib.py"
      ],
      "id": "nEUQ33fVYdCU"
    },
    {
      "cell_type": "code",
      "execution_count": null,
      "metadata": {
        "execution": {
          "iopub.execute_input": "2022-07-13T00:15:15.036937Z",
          "iopub.status.busy": "2022-07-13T00:15:15.036583Z",
          "iopub.status.idle": "2022-07-13T00:15:16.650907Z",
          "shell.execute_reply": "2022-07-13T00:15:16.650254Z"
        },
        "id": "5kElCpG4YdCX"
      },
      "outputs": [],
      "source": [
        "from lib import draw_examples, make_test, run_test\n",
        "import torch\n",
        "import numpy as np\n",
        "from torchtyping import TensorType as TT\n",
        "tensor = torch.tensor"
      ],
      "id": "5kElCpG4YdCX"
    },
    {
      "cell_type": "code",
      "source": [
        "def ones_spec(out):\n",
        "  # ignore, for testing only\n",
        "  for i in range(len(out)):\n",
        "      out[i] = 1\n",
        "\n",
        "def sum_spec(a, out):\n",
        "  # ignore, for testing only\n",
        "  out[0] = 0\n",
        "  for i in range(len(a)):\n",
        "      out[0] += a[i]\n",
        "\n",
        "def test_sum_output_format(f):\n",
        "  a = arange(10)\n",
        "  t = f(a)\n",
        "  assert len(t.shape) == 1 and t.shape[0]==1, f\"expected shape torch.Size([1]), got {t.shape}\"\n"
      ],
      "metadata": {
        "id": "oi7ruKcTYdCY"
      },
      "execution_count": null,
      "outputs": [],
      "id": "oi7ruKcTYdCY"
    },
    {
      "cell_type": "markdown",
      "source": [
        "# Guess the output"
      ],
      "metadata": {
        "id": "aehjtT2X7_IU"
      },
      "id": "aehjtT2X7_IU"
    },
    {
      "cell_type": "code",
      "source": [
        "list1 = [[1, 2, 3], [4, 5, 6]]\n",
        "list2 = list1.copy()\n",
        "list2[0][1] = 'X'\n",
        "list2[1] = ['A', 'B', 'C']\n",
        "#print(list1)\n",
        "#print(list2)"
      ],
      "metadata": {
        "id": "3OK7UlHa73dD",
        "collapsed": true
      },
      "id": "3OK7UlHa73dD",
      "execution_count": null,
      "outputs": []
    },
    {
      "cell_type": "markdown",
      "source": [
        "#### More guessing?"
      ],
      "metadata": {
        "id": "HRXZGRuJ98yl"
      },
      "id": "HRXZGRuJ98yl"
    },
    {
      "cell_type": "code",
      "source": [
        "x = 10\n",
        "def outer():\n",
        "    x = 20\n",
        "    def inner():\n",
        "        global x\n",
        "        x = 30\n",
        "        print(\"inner:\", x)\n",
        "    inner()\n",
        "    print(\"outer:\", x)\n",
        "print(\"global:\", x)\n",
        "outer()\n",
        "print(\"final:\", x)"
      ],
      "metadata": {
        "id": "J-V9mU988J7C"
      },
      "id": "J-V9mU988J7C",
      "execution_count": null,
      "outputs": []
    },
    {
      "cell_type": "markdown",
      "id": "71e87499",
      "metadata": {
        "lines_to_next_cell": 2,
        "id": "71e87499"
      },
      "source": [
        "# Tensor Puzzles\n",
        "- by [Sasha Rush](http://rush-nlp.com) - [srush_nlp](https://twitter.com/srush_nlp) (with Marcos Treviso)"
      ]
    },
    {
      "cell_type": "markdown",
      "id": "0b4f584e",
      "metadata": {
        "id": "0b4f584e"
      },
      "source": [
        "## Rules"
      ]
    },
    {
      "cell_type": "markdown",
      "id": "a7015885",
      "metadata": {
        "id": "a7015885"
      },
      "source": [
        "\n",
        "1. Each puzzle needs to be solved in 1 line (<80 columns) of code.\n",
        "2. You are allowed @, arithmetic, comparison, `shape`, any indexing (e.g. `a[:j], a[:, None], a[arange(10)]`), and previous puzzle functions.\n",
        "3. You are *not allowed* anything else. No `view`, `sum`, `take`, `squeeze`, `tensor`.\n",
        "4. These puzzles sometimes use broadcasting"
      ]
    },
    {
      "cell_type": "markdown",
      "id": "dc2cbfb3",
      "metadata": {
        "id": "dc2cbfb3"
      },
      "source": [
        "5. You can start with this function:"
      ]
    },
    {
      "cell_type": "code",
      "execution_count": null,
      "id": "1e917499",
      "metadata": {
        "execution": {
          "iopub.execute_input": "2022-07-13T00:15:16.654641Z",
          "iopub.status.busy": "2022-07-13T00:15:16.654307Z",
          "iopub.status.idle": "2022-07-13T00:15:16.697912Z",
          "shell.execute_reply": "2022-07-13T00:15:16.697280Z"
        },
        "lines_to_next_cell": 2,
        "id": "1e917499"
      },
      "outputs": [],
      "source": [
        "def arange(i: int):\n",
        "    return torch.tensor(range(i))\n",
        "\n",
        "draw_examples(\"arange\", [{\"\" : arange(i)} for i in [5, 3, 9]])"
      ]
    },
    {
      "cell_type": "code",
      "source": [
        "# Example of broadcasting.\n",
        "a = arange(4)\n",
        "b = arange(5)[:, None]\n",
        "draw_examples(\"broadcast\", [{\"a\": a, \"b\":b, \"ret\": a + b}])"
      ],
      "metadata": {
        "id": "sqcg7fwcXrS1"
      },
      "id": "sqcg7fwcXrS1",
      "execution_count": null,
      "outputs": []
    },
    {
      "cell_type": "markdown",
      "source": [
        "## Puzzle 1 - ones\n",
        "\n",
        "Compute [ones](https://numpy.org/doc/stable/reference/generated/numpy.ones.html) - the vector of all ones."
      ],
      "metadata": {
        "id": "0B28Y7dYBAio"
      },
      "id": "0B28Y7dYBAio"
    },
    {
      "cell_type": "code",
      "source": [
        "def ones(i: int) -> TT[\"i\"]:\n",
        "  #TODO\n",
        "  # Hint: use arange\n",
        "  raise NotImplementedError\n",
        "\n",
        "test_ones = make_test(\"one\", ones, ones_spec, add_sizes=[\"i\"])"
      ],
      "metadata": {
        "id": "PwLrNnVS_-8c"
      },
      "id": "PwLrNnVS_-8c",
      "execution_count": null,
      "outputs": []
    },
    {
      "cell_type": "code",
      "source": [
        "run_test(test_ones)"
      ],
      "metadata": {
        "id": "4hhsyVTsXxHP"
      },
      "id": "4hhsyVTsXxHP",
      "execution_count": null,
      "outputs": []
    },
    {
      "cell_type": "markdown",
      "source": [
        "###### Solution"
      ],
      "metadata": {
        "id": "Kyp8guY2XiIK"
      },
      "id": "Kyp8guY2XiIK"
    },
    {
      "cell_type": "code",
      "source": [
        "def ones_solution(i: int) -> TT[\"i\"]:\n",
        "  return arange(i+1)[1:] - arange(i)"
      ],
      "metadata": {
        "id": "0CE00N96Xd-y"
      },
      "id": "0CE00N96Xd-y",
      "execution_count": null,
      "outputs": []
    },
    {
      "cell_type": "markdown",
      "id": "d281e56c",
      "metadata": {
        "id": "d281e56c"
      },
      "source": [
        "## Puzzle 2 - sum\n",
        "\n",
        "Compute [sum](https://numpy.org/doc/stable/reference/generated/numpy.sum.html) - the sum of a vector."
      ]
    },
    {
      "cell_type": "code",
      "execution_count": null,
      "id": "eb9f236f",
      "metadata": {
        "execution": {
          "iopub.execute_input": "2022-07-13T00:15:17.737503Z",
          "iopub.status.busy": "2022-07-13T00:15:17.737190Z",
          "iopub.status.idle": "2022-07-13T00:15:18.496977Z",
          "shell.execute_reply": "2022-07-13T00:15:18.496351Z"
        },
        "id": "eb9f236f"
      },
      "outputs": [],
      "source": [
        "def sum(a: TT[\"i\"]) -> TT[1]:\n",
        "  raise NotImplementedError\n",
        "\n",
        "test_sum_output_format(sum)\n",
        "test_sum = make_test(\"sum\", sum, sum_spec)"
      ]
    },
    {
      "cell_type": "code",
      "execution_count": null,
      "id": "3f7e2b46",
      "metadata": {
        "execution": {
          "iopub.execute_input": "2022-07-13T00:15:18.500120Z",
          "iopub.status.busy": "2022-07-13T00:15:18.499809Z",
          "iopub.status.idle": "2022-07-13T00:15:18.503156Z",
          "shell.execute_reply": "2022-07-13T00:15:18.502577Z"
        },
        "lines_to_next_cell": 2,
        "id": "3f7e2b46"
      },
      "outputs": [],
      "source": [
        "run_test(test_sum)"
      ]
    },
    {
      "cell_type": "markdown",
      "id": "7b2d68c4",
      "metadata": {
        "id": "7b2d68c4"
      },
      "source": [
        "## Puzzle 3 - outer\n",
        "\n",
        "Compute [outer](https://numpy.org/doc/stable/reference/generated/numpy.outer.html) - the outer product of two vectors."
      ]
    },
    {
      "cell_type": "code",
      "execution_count": null,
      "id": "33e8b424",
      "metadata": {
        "execution": {
          "iopub.execute_input": "2022-07-13T00:15:18.506196Z",
          "iopub.status.busy": "2022-07-13T00:15:18.505868Z",
          "iopub.status.idle": "2022-07-13T00:15:20.019439Z",
          "shell.execute_reply": "2022-07-13T00:15:20.018755Z"
        },
        "id": "33e8b424"
      },
      "outputs": [],
      "source": [
        "def outer(a: TT[\"i\"], b: TT[\"j\"]) -> TT[\"i\", \"j\"]:\n",
        "    raise NotImplementedError\n",
        "\n",
        "def outer_spec(a, b, out):\n",
        "  # for testing\n",
        "  for i in range(len(out)):\n",
        "      for j in range(len(out[0])):\n",
        "          out[i][j] = a[i] * b[j]\n",
        "\n",
        "test_outer = make_test(\"outer\", outer, outer_spec)"
      ]
    },
    {
      "cell_type": "code",
      "execution_count": null,
      "id": "15c04a58",
      "metadata": {
        "execution": {
          "iopub.execute_input": "2022-07-13T00:15:20.022830Z",
          "iopub.status.busy": "2022-07-13T00:15:20.022513Z",
          "iopub.status.idle": "2022-07-13T00:15:20.026801Z",
          "shell.execute_reply": "2022-07-13T00:15:20.026186Z"
        },
        "id": "15c04a58"
      },
      "outputs": [],
      "source": [
        "run_test(test_outer)"
      ]
    },
    {
      "cell_type": "markdown",
      "id": "ebb1a810",
      "metadata": {
        "id": "ebb1a810"
      },
      "source": [
        "## Puzzle 4 - diag\n",
        "\n",
        "Compute [diag](https://numpy.org/doc/stable/reference/generated/numpy.diag.html) - the diagonal vector of a square matrix."
      ]
    },
    {
      "cell_type": "code",
      "execution_count": null,
      "id": "09ea72c6",
      "metadata": {
        "execution": {
          "iopub.execute_input": "2022-07-13T00:15:20.030049Z",
          "iopub.status.busy": "2022-07-13T00:15:20.029731Z",
          "iopub.status.idle": "2022-07-13T00:15:21.274448Z",
          "shell.execute_reply": "2022-07-13T00:15:21.273836Z"
        },
        "id": "09ea72c6"
      },
      "outputs": [],
      "source": [
        "def diag(a: TT[\"i\", \"i\"]) -> TT[\"i\"]:\n",
        "    raise NotImplementedError\n",
        "\n",
        "def diag_spec(a, out):\n",
        "  # for testing\n",
        "  for i in range(len(a)):\n",
        "      out[i] = a[i][i]\n",
        "\n",
        "\n",
        "test_diag = make_test(\"diag\", diag, diag_spec)"
      ]
    },
    {
      "cell_type": "code",
      "execution_count": null,
      "id": "5d4c3641",
      "metadata": {
        "execution": {
          "iopub.execute_input": "2022-07-13T00:15:21.277837Z",
          "iopub.status.busy": "2022-07-13T00:15:21.277486Z",
          "iopub.status.idle": "2022-07-13T00:15:21.281005Z",
          "shell.execute_reply": "2022-07-13T00:15:21.280409Z"
        },
        "id": "5d4c3641"
      },
      "outputs": [],
      "source": [
        "run_test(test_diag)"
      ]
    },
    {
      "cell_type": "markdown",
      "id": "0ffdce80",
      "metadata": {
        "id": "0ffdce80"
      },
      "source": [
        "## Puzzle 5 - eye\n",
        "\n",
        "Compute [eye](https://numpy.org/doc/stable/reference/generated/numpy.eye.html) - the identity matrix."
      ]
    },
    {
      "cell_type": "code",
      "execution_count": null,
      "id": "4fda43df",
      "metadata": {
        "execution": {
          "iopub.execute_input": "2022-07-13T00:15:21.283997Z",
          "iopub.status.busy": "2022-07-13T00:15:21.283689Z",
          "iopub.status.idle": "2022-07-13T00:15:22.155854Z",
          "shell.execute_reply": "2022-07-13T00:15:22.155222Z"
        },
        "id": "4fda43df"
      },
      "outputs": [],
      "source": [
        "def eye(j: int) -> TT[\"j\", \"j\"]:\n",
        "    raise NotImplementedError\n",
        "\n",
        "def eye_spec(out):\n",
        "  # for testing\n",
        "  for i in range(len(out)):\n",
        "      out[i][i] = 1\n",
        "\n",
        "test_eye = make_test(\"eye\", eye, eye_spec, add_sizes=[\"j\"])"
      ]
    },
    {
      "cell_type": "code",
      "execution_count": null,
      "id": "1c2ec691",
      "metadata": {
        "execution": {
          "iopub.execute_input": "2022-07-13T00:15:22.159088Z",
          "iopub.status.busy": "2022-07-13T00:15:22.158772Z",
          "iopub.status.idle": "2022-07-13T00:15:22.162208Z",
          "shell.execute_reply": "2022-07-13T00:15:22.161597Z"
        },
        "id": "1c2ec691"
      },
      "outputs": [],
      "source": [
        "run_test(test_eye)"
      ]
    },
    {
      "cell_type": "markdown",
      "source": [
        "#More puzzles?"
      ],
      "metadata": {
        "id": "C-oArvps-Dcg"
      },
      "id": "C-oArvps-Dcg"
    },
    {
      "cell_type": "markdown",
      "id": "3ceb0fdd",
      "metadata": {
        "id": "3ceb0fdd"
      },
      "source": [
        "## Puzzle 6 - triu\n",
        "\n",
        "Compute [triu](https://numpy.org/doc/stable/reference/generated/numpy.triu.html) - the upper triangular matrix."
      ]
    },
    {
      "cell_type": "code",
      "execution_count": null,
      "id": "4658f7e5",
      "metadata": {
        "execution": {
          "iopub.execute_input": "2022-07-13T00:15:22.165226Z",
          "iopub.status.busy": "2022-07-13T00:15:22.164922Z",
          "iopub.status.idle": "2022-07-13T00:15:23.160949Z",
          "shell.execute_reply": "2022-07-13T00:15:23.160294Z"
        },
        "id": "4658f7e5"
      },
      "outputs": [],
      "source": [
        "def triu_spec(out):\n",
        "    for i in range(len(out)):\n",
        "        for j in range(len(out)):\n",
        "            if i <= j:\n",
        "                out[i][j] = 1\n",
        "            else:\n",
        "                out[i][j] = 0\n",
        "\n",
        "def triu(j: int) -> TT[\"j\", \"j\"]:\n",
        "    raise NotImplementedError\n",
        "\n",
        "\n",
        "test_triu = make_test(\"triu\", triu, triu_spec, add_sizes=[\"j\"])"
      ]
    },
    {
      "cell_type": "code",
      "execution_count": null,
      "id": "b00e3f88",
      "metadata": {
        "execution": {
          "iopub.execute_input": "2022-07-13T00:15:23.164309Z",
          "iopub.status.busy": "2022-07-13T00:15:23.163987Z",
          "iopub.status.idle": "2022-07-13T00:15:23.167373Z",
          "shell.execute_reply": "2022-07-13T00:15:23.166786Z"
        },
        "id": "b00e3f88"
      },
      "outputs": [],
      "source": [
        "# run_test(test_triu)"
      ]
    },
    {
      "cell_type": "markdown",
      "id": "f3209ef8",
      "metadata": {
        "id": "f3209ef8"
      },
      "source": [
        "## Puzzle 7 - cumsum\n",
        "\n",
        "Compute [cumsum](https://numpy.org/doc/stable/reference/generated/numpy.cumsum.html) - the cumulative sum."
      ]
    },
    {
      "cell_type": "code",
      "execution_count": null,
      "id": "997ee763",
      "metadata": {
        "execution": {
          "iopub.execute_input": "2022-07-13T00:15:23.170337Z",
          "iopub.status.busy": "2022-07-13T00:15:23.170024Z",
          "iopub.status.idle": "2022-07-13T00:15:24.239732Z",
          "shell.execute_reply": "2022-07-13T00:15:24.239081Z"
        },
        "id": "997ee763"
      },
      "outputs": [],
      "source": [
        "def cumsum_spec(a, out):\n",
        "    total = 0\n",
        "    for i in range(len(out)):\n",
        "        out[i] = total + a[i]\n",
        "        total += a[i]\n",
        "\n",
        "def cumsum(a: TT[\"i\"]) -> TT[\"i\"]:\n",
        "    raise NotImplementedError\n",
        "\n",
        "test_cumsum = make_test(\"cumsum\", cumsum, cumsum_spec)"
      ]
    },
    {
      "cell_type": "code",
      "execution_count": null,
      "id": "9145d1cc",
      "metadata": {
        "execution": {
          "iopub.execute_input": "2022-07-13T00:15:24.243017Z",
          "iopub.status.busy": "2022-07-13T00:15:24.242709Z",
          "iopub.status.idle": "2022-07-13T00:15:24.246110Z",
          "shell.execute_reply": "2022-07-13T00:15:24.245551Z"
        },
        "lines_to_next_cell": 2,
        "id": "9145d1cc"
      },
      "outputs": [],
      "source": [
        "# run_test(test_cumsum)"
      ]
    },
    {
      "cell_type": "markdown",
      "source": [
        "# Free coding!\n",
        "\n",
        "You can move to your favorite IDE and use any LLM you like!"
      ],
      "metadata": {
        "id": "S6w_AOJA9lSc"
      },
      "id": "S6w_AOJA9lSc"
    },
    {
      "cell_type": "code",
      "source": [
        "import torch\n",
        "import torch.nn as nn\n",
        "from torch.nn import TransformerEncoder, TransformerEncoderLayer\n",
        "\n",
        "class TabPFNTransformer(nn.Module):\n",
        "    \"\"\"\n",
        "    Implement a transformer-based model that predicts test labels given both training and test data.\n",
        "\n",
        "    The model should:\n",
        "    1. Take training features, test features, and training labels as input (assume everything is numerical and preprocessed)\n",
        "    2. Process both training and test data jointly using transformer architecture\n",
        "    3. Output predictions for test samples in 1 forward pass\n",
        "\n",
        "    Input shapes:\n",
        "        X_train: (1, n_train, n_features) For now we assume n_features is fixed.\n",
        "        X_test: (1, n_test, n_features)\n",
        "        y_train: (1, n_train)\n",
        "\n",
        "    Output shape:\n",
        "        y_pred: (1, n_test) - predictions for test samples\n",
        "    \"\"\"\n",
        "\n",
        "    def __init__(self, n_features: int, d: int):\n",
        "        super().__init__()\n",
        "        self.n_features = n_features\n",
        "        self.d = d\n",
        "        self.transformer = TransformerEncoder(\n",
        "            TransformerEncoderLayer(d, nhead=4, dim_feedforward=d*2,\n",
        "                                    batch_first=True, dropout=0.0),\n",
        "            num_layers=2\n",
        "        ) #(batch_size, seq_len, d) --> (batch_size, seq_len, d)\n",
        "\n",
        "        #TODO?\n",
        "\n",
        "    def forward(self, X_train, X_test, y_train):\n",
        "      #TODO\n",
        "      pass"
      ],
      "metadata": {
        "id": "KDfc9lsl9r3L"
      },
      "id": "KDfc9lsl9r3L",
      "execution_count": null,
      "outputs": []
    },
    {
      "cell_type": "markdown",
      "source": [
        "#### Test that it's running"
      ],
      "metadata": {
        "id": "1QDiKmY97RSr"
      },
      "id": "1QDiKmY97RSr"
    },
    {
      "cell_type": "code",
      "source": [
        "X = torch.rand(1, 4, 10)\n",
        "y = torch.randint(0, 2, (1, 4))\n",
        "X_test = torch.rand(1, 3, 10)\n",
        "\n",
        "model = TabPFNTransformer(10, 128)\n",
        "model(X, X_test, y)"
      ],
      "metadata": {
        "id": "pZaChibV9sfo"
      },
      "id": "pZaChibV9sfo",
      "execution_count": null,
      "outputs": []
    },
    {
      "cell_type": "code",
      "source": [
        "# @title Test indépendence\n",
        "torch.manual_seed(42)  # Set seed for reproducibility\n",
        "X_test1 = torch.rand(1, 3, 10)\n",
        "X_test2 = torch.rand(1, 3, 10)\n",
        "X_test_combined = torch.cat([X_test1, X_test2], dim=1)\n",
        "\n",
        "# Run model on separate and combined test sets\n",
        "model = TabPFNTransformer(10, 128)\n",
        "torch.manual_seed(42)  # Reset seed before model initialization\n",
        "pred1 = model(X, X_test1, y)\n",
        "torch.manual_seed(42)  # Reset seed for consistent initialization\n",
        "pred2 = model(X, X_test2, y)\n",
        "torch.manual_seed(42)  # Reset seed again\n",
        "pred_combined = model(X, X_test_combined, y)\n",
        "\n",
        "#Check if predictions match when run separately vs together\n",
        "print(\"Predictions match?\", torch.allclose(\n",
        "    torch.cat([pred1, pred2], dim=1),\n",
        "    pred_combined,\n",
        "    rtol=1e-4\n",
        "))\n"
      ],
      "metadata": {
        "id": "KWmkSRvLSFh0",
        "cellView": "form"
      },
      "id": "KWmkSRvLSFh0",
      "execution_count": null,
      "outputs": []
    },
    {
      "cell_type": "code",
      "source": [],
      "metadata": {
        "id": "pHGkPTRsSVtw"
      },
      "id": "pHGkPTRsSVtw",
      "execution_count": null,
      "outputs": []
    }
  ],
  "metadata": {
    "jupytext": {
      "cell_metadata_filter": "id,-all"
    },
    "kernelspec": {
      "display_name": "tensor_puzzles",
      "language": "python",
      "name": "tensor_puzzles"
    },
    "language_info": {
      "codemirror_mode": {
        "name": "ipython",
        "version": 3
      },
      "file_extension": ".py",
      "mimetype": "text/x-python",
      "name": "python",
      "nbconvert_exporter": "python",
      "pygments_lexer": "ipython3",
      "version": "3.8.10"
    },
    "colab": {
      "provenance": [],
      "collapsed_sections": [
        "_pAZKigRYepL",
        "HRXZGRuJ98yl",
        "Kyp8guY2XiIK",
        "C-oArvps-Dcg",
        "3ceb0fdd",
        "f3209ef8"
      ]
    }
  },
  "nbformat": 4,
  "nbformat_minor": 5
}